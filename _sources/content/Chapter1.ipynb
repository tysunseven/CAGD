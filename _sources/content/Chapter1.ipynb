{
 "cells": [
  {
   "cell_type": "markdown",
   "metadata": {},
   "source": [
    "# Chapter1"
   ]
  },
  {
   "cell_type": "code",
   "execution_count": null,
   "metadata": {},
   "outputs": [],
   "source": [
    "import numpy as np\n",
    "import matplotlib.pyplot as plt\n",
    "\n",
    "# 避免指定中文字体，仅确保负号显示正常\n",
    "plt.rcParams['axes.unicode_minus'] = False\n",
    "\n",
    "# 示例绘图\n",
    "t = np.linspace(0, 1, 100)\n",
    "x = t**2\n",
    "y = t**3\n",
    "plt.plot(x, y, label=\"Bezier curve example\")  # 使用英文标签\n",
    "plt.legend()\n",
    "plt.show()\n",
    "plt.close()"
   ]
  }
 ],
 "metadata": {
  "kernelspec": {
   "display_name": "venv",
   "language": "python",
   "name": "python3"
  },
  "language_info": {
   "name": "python",
   "version": "3.12.8"
  }
 },
 "nbformat": 4,
 "nbformat_minor": 2
}
