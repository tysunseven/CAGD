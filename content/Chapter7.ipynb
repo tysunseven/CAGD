{
 "cells": [
  {
   "cell_type": "markdown",
   "metadata": {},
   "source": [
    "# Chapter7 Spline Surfaces"
   ]
  },
  {
   "cell_type": "code",
   "execution_count": null,
   "metadata": {},
   "outputs": [],
   "source": [
    "import numpy as np\n",
    "import ipywidgets as widgets\n",
    "from IPython.display import display\n",
    "\n",
    "def main():\n",
    "    x_widget = widgets.Text(value='1.0,1.0,1.0', description='中心 (x,y,z):')\n",
    "    d_widget = widgets.FloatText(value=2.0, description='边长一半:')\n",
    "    n_widget = widgets.FloatText(value=10.0, description='成像平面:')\n",
    "    \n",
    "    display(x_widget, d_widget, n_widget)\n",
    "\n",
    "    def on_button_click(b):\n",
    "        x = np.array(list(map(float, x_widget.value.split(','))))\n",
    "        d = d_widget.value\n",
    "        n = n_widget.value\n",
    "        print(f\"x = {x}, d = {d}, n = {n}\")\n",
    "    \n",
    "    button = widgets.Button(description=\"运行\")\n",
    "    button.on_click(on_button_click)\n",
    "    display(button)\n",
    "\n",
    "main()\n"
   ]
  }
 ],
 "metadata": {
  "kernelspec": {
   "display_name": "venv",
   "language": "python",
   "name": "python3"
  },
  "language_info": {
   "name": "python",
   "version": "3.12.8"
  }
 },
 "nbformat": 4,
 "nbformat_minor": 2
}
