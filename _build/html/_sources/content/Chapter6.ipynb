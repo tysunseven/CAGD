{
 "cells": [
  {
   "cell_type": "markdown",
   "metadata": {},
   "source": [
    "# Chapter6 Rational Splines"
   ]
  },
  {
   "cell_type": "code",
   "execution_count": null,
   "metadata": {
    "vscode": {
     "languageId": "plaintext"
    }
   },
   "outputs": [],
   "source": [
    "import numpy as np\n",
    "from mpl_toolkits.mplot3d import Axes3D\n",
    "\n",
    "import matplotlib.pyplot as plt\n",
    "\n",
    "def plotlines(vertices):\n",
    "    edges = [\n",
    "        [0, 1], [1, 2], [2, 3], [3, 0],\n",
    "        [4, 5], [5, 6], [6, 7], [7, 4],\n",
    "        [0, 4], [1, 5], [2, 6], [3, 7]\n",
    "    ]\n",
    "    for edge in edges:\n",
    "        plt.plot(vertices[0, edge], vertices[1, edge], vertices[2, edge], 'k')\n",
    "\n",
    "def main():\n",
    "    x = np.array(list(map(float, input(\"Please input the center of the cube(e.g. 1,1,1): \").split(','))))\n",
    "    d = float(input(\"Please input the half length of the edge of the cube: \"))\n",
    "    n = float(input(\"Please input image plane: \"))\n",
    "\n",
    "    projection = np.eye(4)\n",
    "    projection[3, 3] = 0\n",
    "    projection[3, 2] = 1 / n\n",
    "\n",
    "    x = np.append(x, 1)\n",
    "    proj_x = np.dot(projection, x)\n",
    "    print(proj_x)\n",
    "    print(projection)\n",
    "\n",
    "    vertices = x[:3].reshape(3, 1) + d * np.array([\n",
    "        [-1, -1, -1, -1, 1, 1, 1, 1],\n",
    "        [-1, -1, 1, 1, -1, -1, 1, 1],\n",
    "        [-1, 1, 1, -1, -1, 1, 1, -1]\n",
    "    ])\n",
    "    vertices = np.vstack((vertices, np.ones((1, 8))))\n",
    "    proj = np.dot(projection, vertices)\n",
    "    proj = proj[:3, :] / proj[3, :]\n",
    "\n",
    "    p = max(abs(x[0] + d), abs(x[1] + d))\n",
    "    # p = max(abs(x[0] + n), abs(x[1] + n))\n",
    "    p1 = np.arange(-p, p + 1)\n",
    "    X, Y = np.meshgrid(p1, p1)\n",
    "    Z = n * np.ones((2 * int(p) + 1, 2 * int(p) + 1))\n",
    "\n",
    "    fig = plt.figure()\n",
    "    ax = fig.add_subplot(111, projection='3d')\n",
    "    ax.plot_surface(X, Y, Z, alpha=0.5)\n",
    "\n",
    "    ax.plot([0], [0], [0], 'r*', linewidth=4)\n",
    "    plotlines(vertices)\n",
    "\n",
    "    plotlines(proj)\n",
    "\n",
    "    for i in range(8):\n",
    "        ax.plot([vertices[0, i], 0], [vertices[1, i], 0], [vertices[2, i], 0], ':k*', linewidth=1)\n",
    "\n",
    "    plt.show()\n",
    "\n",
    "if __name__ == \"__main__\":\n",
    "    main()"
   ]
  }
 ],
 "metadata": {
  "language_info": {
   "name": "python"
  }
 },
 "nbformat": 4,
 "nbformat_minor": 2
}
